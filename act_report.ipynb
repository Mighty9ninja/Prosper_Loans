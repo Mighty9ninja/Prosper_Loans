{
 "cells": [
  {
   "cell_type": "markdown",
   "metadata": {},
   "source": [
    "## Report: act_report\n",
    "* Create a **250-word-minimum written report** called \"act_report.pdf\" or \"act_report.html\" that communicates the insights and displays the visualization(s) produced from your wrangled data. This is to be framed as an external document, like a blog post or magazine article, for example."
   ]
  },
  {
   "cell_type": "markdown",
   "metadata": {},
   "source": [
    "Tables were used to tally the values of dog categorization, as well as dog name and breed, in order to carry out an analysis of the data. In order to properly assemble the findings of the research, this step has to be taken. On the other hand, some investigations came to the conclusion that a number of canines in a row had \"multiple categorizations,\" which does not make any sense at all. Other studies, on the other hand, found that some canines in a row had \"multiple categorizations.\" Other research came to the conclusion that specific dogs in a row had \"many categorizations,\" despite the fact that one study came to the conclusion that pups are the highest-ranking classification of canines. In spite of the fact that this defies common sense, it is still feasible that the cleaning procedures that were carried out have anything to do with this. The images collection comes to a close with the German shepherd values holding the position of having the greatest overall count of value points for p1 in the collection."
   ]
  }
 ],
 "metadata": {
  "kernelspec": {
   "display_name": "Python 3",
   "language": "python",
   "name": "python3"
  },
  "language_info": {
   "codemirror_mode": {
    "name": "ipython",
    "version": 3
   },
   "file_extension": ".py",
   "mimetype": "text/x-python",
   "name": "python",
   "nbconvert_exporter": "python",
   "pygments_lexer": "ipython3",
   "version": "3.6.3"
  }
 },
 "nbformat": 4,
 "nbformat_minor": 2
}
