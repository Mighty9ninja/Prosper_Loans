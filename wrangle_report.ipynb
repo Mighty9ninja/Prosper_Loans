{
 "cells": [
  {
   "cell_type": "markdown",
   "metadata": {},
   "source": [
    "## Reporting: wragle_report\n",
    "* Create a **300-600 word written report** called \"wrangle_report.pdf\" or \"wrangle_report.html\" that briefly describes your wrangling efforts. This is to be framed as an internal document."
   ]
  },
  {
   "cell_type": "markdown",
   "metadata": {},
   "source": [
    "It was essential to request particular data from URLs and APIs in addition to getting data from other types of files, such as CVS files, in order to finish the data wrangling responsibilities. An in-depth investigation of each dataset, carried out visually as well as via the use of programming, will discover particular issues with the quality and cleanliness of the data.\n",
    "As a consequence of doing this study, these issues, which include the absence of columns in the Twitter archive, will be brought to light (doggo, floofer, puppee, and puppo). The names that are included in the \"name\" column of the Twitter archive are not all of the users who have ever used Twitter. \n",
    "Twitter's archived posts' hierarchical table of contents There are other areas that have been left blank, including \"in reply to status id,\" \"in reply to user id,\" \"retweeted status id,\" and \"retweeted status user id.\" Images table - p1 column Twitter's archival resources Table - This table has a large number of fields, some of which are as follows: the retweeted status id; the in reply to status id; and the in reply to user id (animal that are not dogs listed).\n",
    "There are predictions for duplicate pictures of jpg urls that are stored in the image database. Each of these photos has its own individual Twitter id. Picture duplication image predictions are another name for these kind of predictions.\n",
    "The term still has a number of ambiguities, which need to be clarified before it may be used. It was found that the tweet json file had duplicate columns in both the id and str id fields of the database. It would seem that the original text of the Tweet JSON table column head does not adequately express the full meaning of the phrase. \n",
    "Its data issue was cleaned up so that the data would be structured, and then merges were conducted for enhanced analysis before the data were stored in the master dataset. This was done before the data were saved in the master dataset."
   ]
  },
  {
   "cell_type": "code",
   "execution_count": null,
   "metadata": {},
   "outputs": [],
   "source": []
  }
 ],
 "metadata": {
  "kernelspec": {
   "display_name": "Python 3",
   "language": "python",
   "name": "python3"
  },
  "language_info": {
   "codemirror_mode": {
    "name": "ipython",
    "version": 3
   },
   "file_extension": ".py",
   "mimetype": "text/x-python",
   "name": "python",
   "nbconvert_exporter": "python",
   "pygments_lexer": "ipython3",
   "version": "3.6.3"
  }
 },
 "nbformat": 4,
 "nbformat_minor": 2
}
